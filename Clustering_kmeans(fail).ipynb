{
 "cells": [
  {
   "cell_type": "code",
   "execution_count": 1,
   "metadata": {},
   "outputs": [],
   "source": [
    "import numpy as np\n",
    "import pandas as pd\n",
    "from datetime import date\n",
    "\n",
    "from sklearn import cluster\n",
    "from sklearn.feature_extraction.text import TfidfVectorizer\n",
    "from sklearn.cluster import KMeans\n",
    "\n",
    "import matplotlib.pyplot as plt\n",
    "import seaborn as sns\n",
    "\n",
    "import re\n",
    "import os\n",
    "\n",
    "import nltk\n",
    "import string"
   ]
  },
  {
   "cell_type": "code",
   "execution_count": 54,
   "metadata": {},
   "outputs": [
    {
     "name": "stdout",
     "output_type": "stream",
     "text": [
      "<class 'pandas.core.frame.DataFrame'>\n",
      "RangeIndex: 104413 entries, 0 to 104412\n",
      "Data columns (total 6 columns):\n",
      "dept_code     104413 non-null object\n",
      "issue_date    104329 non-null object\n",
      "issuer        104329 non-null object\n",
      "issuer_eng    104329 non-null object\n",
      "values;;      104329 non-null object\n",
      "index         104413 non-null int32\n",
      "dtypes: int32(1), object(5)\n",
      "memory usage: 4.4+ MB\n"
     ]
    }
   ],
   "source": [
    "#Загружаем грязные данные\n",
    "data = pd.read_csv(\"Data.csv\")\n",
    "\n",
    "data['index'] = range(1, len(data) + 1)\n",
    "data.head()\n",
    "data.info()"
   ]
  },
  {
   "cell_type": "code",
   "execution_count": 8,
   "metadata": {},
   "outputs": [
    {
     "data": {
      "text/html": [
       "<div>\n",
       "<style scoped>\n",
       "    .dataframe tbody tr th:only-of-type {\n",
       "        vertical-align: middle;\n",
       "    }\n",
       "\n",
       "    .dataframe tbody tr th {\n",
       "        vertical-align: top;\n",
       "    }\n",
       "\n",
       "    .dataframe thead th {\n",
       "        text-align: right;\n",
       "    }\n",
       "</style>\n",
       "<table border=\"1\" class=\"dataframe\">\n",
       "  <thead>\n",
       "    <tr style=\"text-align: right;\">\n",
       "      <th></th>\n",
       "      <th>dept_code</th>\n",
       "      <th>issue_date</th>\n",
       "      <th>issuer</th>\n",
       "      <th>issuer_eng</th>\n",
       "      <th>values;;</th>\n",
       "      <th>index</th>\n",
       "      <th>year</th>\n",
       "    </tr>\n",
       "  </thead>\n",
       "  <tbody>\n",
       "    <tr>\n",
       "      <th>0</th>\n",
       "      <td>20003</td>\n",
       "      <td>2001-11-05</td>\n",
       "      <td>ОУФМС</td>\n",
       "      <td>OUFMS</td>\n",
       "      <td>20003_345;;</td>\n",
       "      <td>1</td>\n",
       "      <td>2001</td>\n",
       "    </tr>\n",
       "    <tr>\n",
       "      <th>1</th>\n",
       "      <td>20003</td>\n",
       "      <td>2002-03-22</td>\n",
       "      <td>МВД ПО РЕСПУБЛИКЕ БАШКОРТОСТАН</td>\n",
       "      <td>MVD PO RESPUBLIKE BASHKORTOSTAN</td>\n",
       "      <td>20003_319;;</td>\n",
       "      <td>2</td>\n",
       "      <td>2002</td>\n",
       "    </tr>\n",
       "    <tr>\n",
       "      <th>2</th>\n",
       "      <td>20003</td>\n",
       "      <td>2002-05-18</td>\n",
       "      <td>МВД ПО РЕСПУБЛИКЕ БАШКОРТОСТАН</td>\n",
       "      <td>MVD PO RESPUBLIKE BASHKORTOSTAN</td>\n",
       "      <td>20003_319;;</td>\n",
       "      <td>3</td>\n",
       "      <td>2002</td>\n",
       "    </tr>\n",
       "    <tr>\n",
       "      <th>3</th>\n",
       "      <td>20003</td>\n",
       "      <td>2002-08-13</td>\n",
       "      <td>ОТДЕЛОМ УФМС РОССИИ ПО РЕСПУБЛИКЕ БАШКОРТОСТАН...</td>\n",
       "      <td>OTDELOM UFMS ROSSII PO RESPUBLIKE BASHKORTOSTA...</td>\n",
       "      <td>20003_346;;</td>\n",
       "      <td>4</td>\n",
       "      <td>2002</td>\n",
       "    </tr>\n",
       "    <tr>\n",
       "      <th>4</th>\n",
       "      <td>20003</td>\n",
       "      <td>2003-07-17</td>\n",
       "      <td>ОТДЕЛОМ УФМС РОССИИ ПО РЕСПУБЛИКЕ БАШКОРТОСТАН...</td>\n",
       "      <td>OTDELOM UFMS ROSSII PO RESPUBLIKE BASHKORTOSTA...</td>\n",
       "      <td>20003_347;;</td>\n",
       "      <td>5</td>\n",
       "      <td>2003</td>\n",
       "    </tr>\n",
       "  </tbody>\n",
       "</table>\n",
       "</div>"
      ],
      "text/plain": [
       "  dept_code issue_date                                             issuer  \\\n",
       "0     20003 2001-11-05                                              ОУФМС   \n",
       "1     20003 2002-03-22                     МВД ПО РЕСПУБЛИКЕ БАШКОРТОСТАН   \n",
       "2     20003 2002-05-18                     МВД ПО РЕСПУБЛИКЕ БАШКОРТОСТАН   \n",
       "3     20003 2002-08-13  ОТДЕЛОМ УФМС РОССИИ ПО РЕСПУБЛИКЕ БАШКОРТОСТАН...   \n",
       "4     20003 2003-07-17  ОТДЕЛОМ УФМС РОССИИ ПО РЕСПУБЛИКЕ БАШКОРТОСТАН...   \n",
       "\n",
       "                                          issuer_eng     values;;  index  year  \n",
       "0                                              OUFMS  20003_345;;      1  2001  \n",
       "1                    MVD PO RESPUBLIKE BASHKORTOSTAN  20003_319;;      2  2002  \n",
       "2                    MVD PO RESPUBLIKE BASHKORTOSTAN  20003_319;;      3  2002  \n",
       "3  OTDELOM UFMS ROSSII PO RESPUBLIKE BASHKORTOSTA...  20003_346;;      4  2002  \n",
       "4  OTDELOM UFMS ROSSII PO RESPUBLIKE BASHKORTOSTA...  20003_347;;      5  2003  "
      ]
     },
     "execution_count": 8,
     "metadata": {},
     "output_type": "execute_result"
    }
   ],
   "source": [
    "# Очистка данных\n",
    "data['failed'] = data['dept_code'].str.contains(';', regex=True)\n",
    "data[data['failed'] == True]\n",
    "data = data[data['failed'] == False]\n",
    "del data['failed']\n",
    "data['year'] = data['issue_date'].dt.strftime('%Y')\n",
    "data.head()"
   ]
  },
  {
   "cell_type": "code",
   "execution_count": 9,
   "metadata": {},
   "outputs": [
    {
     "data": {
      "text/plain": [
       "<seaborn.axisgrid.FacetGrid at 0x1d0faaf7208>"
      ]
     },
     "execution_count": 9,
     "metadata": {},
     "output_type": "execute_result"
    },
    {
     "data": {
      "image/png": "[encoded data removed]",
      "text/plain": [
       "<Figure size 576x288 with 1 Axes>"
      ]
     },
     "metadata": {},
     "output_type": "display_data"
    }
   ],
   "source": [
    "#Определяем год, скоторого можно анализировать выборку\n",
    "g = sns.factorplot(\"year\", data=data, aspect=2, kind=\"count\")\n",
    "g.set_xticklabels(rotation=90)"
   ]
  },
  {
   "cell_type": "code",
   "execution_count": 57,
   "metadata": {},
   "outputs": [],
   "source": [
    "#Обрезаем и обрабатываем данные\n",
    "data['issue_date']= pd.to_datetime(data['issue_date'])\n",
    "data = data[data['issue_date'].dt.strftime('%Y') >= '2001']\n",
    "data[\"issuer_eng\"]=data['issuer_eng'].map(str.upper)"
   ]
  },
  {
   "cell_type": "code",
   "execution_count": 42,
   "metadata": {},
   "outputs": [],
   "source": [
    "#Будем определять точность кластеризации на одном регионе\n",
    "d_20024 = data[data['dept_code'] == '20024']\n",
    "documents = d_20024['issuer_eng'].values.astype(\"U\")\n",
    "vectorizer = TfidfVectorizer()\n",
    "X = vectorizer.fit_transform(documents)\n",
    "features = vectorizer.fit_transform(documents)"
   ]
  },
  {
   "cell_type": "code",
   "execution_count": 43,
   "metadata": {},
   "outputs": [],
   "source": [
    "#Подбираем оптимальное значение k\n",
    "Sum_of_squared_distances = []\n",
    "K = range(2,5)\n",
    "\n",
    "for k in K:\n",
    "   km = KMeans(n_clusters=k, max_iter=100, n_init=1)\n",
    "   km = km.fit(X)\n",
    "   Sum_of_squared_distances.append(km.inertia_)"
   ]
  },
  {
   "cell_type": "code",
   "execution_count": 44,
   "metadata": {},
   "outputs": [
    {
     "data": {
      "image/png": "[encoded data removed]",
      "text/plain": [
       "<Figure size 432x288 with 1 Axes>"
      ]
     },
     "metadata": {},
     "output_type": "display_data"
    },
    {
     "data": {
      "text/plain": [
       "<Figure size 432x288 with 0 Axes>"
      ]
     },
     "metadata": {},
     "output_type": "display_data"
    }
   ],
   "source": [
    "plt.plot(K, Sum_of_squared_distances, 'bx-')\n",
    "plt.xlabel('k')\n",
    "plt.ylabel('Sum_of_squared_distances')\n",
    "plt.title('Elbow Method For Optimal k')\n",
    "plt.show()\n",
    "plt.savefig('k.png')"
   ]
  },
  {
   "cell_type": "code",
   "execution_count": 45,
   "metadata": {},
   "outputs": [
    {
     "data": {
      "text/plain": [
       "KMeans(algorithm='auto', copy_x=True, init='k-means++', max_iter=100,\n",
       "    n_clusters=3, n_init=1, n_jobs=1, precompute_distances='auto',\n",
       "    random_state=None, tol=0.0001, verbose=0)"
      ]
     },
     "execution_count": 45,
     "metadata": {},
     "output_type": "execute_result"
    }
   ],
   "source": [
    "#Строим модель кластеризации\n",
    "true_k = 3\n",
    "model = KMeans(n_clusters=true_k, init='k-means++', max_iter=100, n_init=1)\n",
    "model.fit(X)\n",
    "d_20024['cluster'] = model.labels_"
   ]
  },
  {
   "cell_type": "code",
   "execution_count": 48,
   "metadata": {},
   "outputs": [
    {
     "data": {
      "text/html": [
       "<div>\n",
       "<style scoped>\n",
       "    .dataframe tbody tr th:only-of-type {\n",
       "        vertical-align: middle;\n",
       "    }\n",
       "\n",
       "    .dataframe tbody tr th {\n",
       "        vertical-align: top;\n",
       "    }\n",
       "\n",
       "    .dataframe thead th {\n",
       "        text-align: right;\n",
       "    }\n",
       "</style>\n",
       "<table border=\"1\" class=\"dataframe\">\n",
       "  <thead>\n",
       "    <tr style=\"text-align: right;\">\n",
       "      <th></th>\n",
       "      <th>dept_code</th>\n",
       "      <th>cluster</th>\n",
       "      <th>issue_date</th>\n",
       "    </tr>\n",
       "  </thead>\n",
       "  <tbody>\n",
       "    <tr>\n",
       "      <th>0</th>\n",
       "      <td>20024</td>\n",
       "      <td>0</td>\n",
       "      <td>1849</td>\n",
       "    </tr>\n",
       "    <tr>\n",
       "      <th>1</th>\n",
       "      <td>20024</td>\n",
       "      <td>1</td>\n",
       "      <td>244</td>\n",
       "    </tr>\n",
       "    <tr>\n",
       "      <th>2</th>\n",
       "      <td>20024</td>\n",
       "      <td>2</td>\n",
       "      <td>699</td>\n",
       "    </tr>\n",
       "  </tbody>\n",
       "</table>\n",
       "</div>"
      ],
      "text/plain": [
       "  dept_code  cluster  issue_date\n",
       "0     20024        0        1849\n",
       "1     20024        1         244\n",
       "2     20024        2         699"
      ]
     },
     "execution_count": 48,
     "metadata": {},
     "output_type": "execute_result"
    }
   ],
   "source": [
    "#Выявляем центры кластеров\n",
    "dg = d_20024.groupby(['cluster', 'issuer_eng'], sort=False).agg('count')\n",
    "dg = d_20024.groupby(['dept_code', 'cluster', 'issuer_eng']).count()[['issue_date']]\n",
    "dg.reset_index(inplace=True)\n",
    "dg_max = dg.groupby(['dept_code', 'cluster']).max()[['issue_date']]\n",
    "dg_max.reset_index(inplace=True)\n",
    "grouped = pd.merge(dg_max, dg, how='inner')\n",
    "dg_max.head()"
   ]
  },
  {
   "cell_type": "code",
   "execution_count": 28,
   "metadata": {},
   "outputs": [
    {
     "name": "stdout",
     "output_type": "stream",
     "text": [
      "Top terms per cluster:\n",
      "Cluster 0: gor\n",
      " otdelom\n",
      " rajone\n",
      " kalininskom\n",
      " ufy\n",
      " rossii\n",
      " ufms\n",
      " respublike\n",
      " bashkortostan\n",
      " po\n",
      " respubliki\n",
      "Cluster 1: goroda\n",
      " otdelom\n",
      " kalininskom\n",
      " rajone\n",
      " ufms\n",
      " rossii\n",
      " ufy\n",
      " respublike\n",
      " bashkortostan\n",
      " po\n",
      " otdel\n",
      "Cluster 2: mvd\n",
      " respublike\n",
      " bashkortostan\n",
      " po\n",
      " rb\n",
      " ne\n",
      " like\n",
      " kirovkom\n",
      " kalinskom\n",
      " kalinninskom\n",
      " kalinenskom\n"
     ]
    }
   ],
   "source": [
    "#Центрами разных кластеров оказались очень похожие друг на друга значения\n",
    "print(\"Top terms per cluster:\")\n",
    "order_centroids = model.cluster_centers_.argsort()[:, ::-1]\n",
    "terms = vectorizer.get_feature_names()\n",
    " \n",
    "for i in range(true_k):\n",
    "     print(\"Cluster %d:\" % i, end='')\n",
    "     for ind in order_centroids[i, :11]:\n",
    "         print(' %s' % terms[ind], end='')\n",
    "         print()"
   ]
  }
 ],
 "metadata": {
  "kernelspec": {
   "display_name": "Python 3",
   "language": "python",
   "name": "python3"
  },
  "language_info": {
   "codemirror_mode": {
    "name": "ipython",
    "version": 3
   },
   "file_extension": ".py",
   "mimetype": "text/x-python",
   "name": "python",
   "nbconvert_exporter": "python",
   "pygments_lexer": "ipython3",
   "version": "3.8.5"
  }
 },
 "nbformat": 4,
 "nbformat_minor": 2
}
